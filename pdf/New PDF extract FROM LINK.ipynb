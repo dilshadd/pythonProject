{
 "cells": [
  {
   "cell_type": "code",
   "execution_count": 4,
   "id": "wrapped-slope",
   "metadata": {},
   "outputs": [],
   "source": [
    "url = \"https://drive.google.com/uc?id=1Afw9hQNoHwUuwn3BQ_x9oWSWCj4WBXlj&export=download\"\n",
    "pnr = []"
   ]
  },
  {
   "cell_type": "code",
   "execution_count": 5,
   "id": "every-carbon",
   "metadata": {},
   "outputs": [],
   "source": [
    "def Disney(pdf_content,url):\n",
    "    for page in PDFPage.get_pages(pdf_content, check_extractable=False):\n",
    "        # Create a PDF interpreter object.\n",
    "        rsrcmgr = PDFResourceManager()\n",
    "        retstr = io.StringIO()\n",
    "        codec = 'utf-8'\n",
    "        laparams = LAParams()\n",
    "        device = TextConverter(rsrcmgr, retstr,codec=codec, laparams=laparams)\n",
    "        interpreter = PDFPageInterpreter(rsrcmgr, device)\n",
    "        interpreter.process_page(page)\n",
    "        data = retstr.getvalue()\n",
    "        split = data.split()\n",
    "        split.insert(0,url)\n",
    "        # split2 = split[1].split('\\n')\n",
    "        pnr.append(split)"
   ]
  },
  {
   "cell_type": "code",
   "execution_count": 8,
   "id": "concrete-liabilities",
   "metadata": {},
   "outputs": [],
   "source": [
    "try:\n",
    "    response = requests.get(url)\n",
    "    my_raw_data = response.content\n",
    "\n",
    "    pdf_content = io.BytesIO(my_raw_data)\n",
    "    try:\n",
    "        pdf_reader = PyPDF2.PdfFileReader(pdf_content)\n",
    "\n",
    "        if pdf_reader.isEncrypted:\n",
    "            try:\n",
    "                pdf_reader.decrypt('')\n",
    "                print('File Decrypted (PyPDF2)')\n",
    "            except:\n",
    "                command = \"cp \" + url + \" temp.pdf; qpdf --password='' --decrypt temp.pdf \" + url\n",
    "                os.system(command)\n",
    "                print('File Decrypted (qpdf)')\n",
    "                # re-open the decrypted file\n",
    "                response = requests.get(command)\n",
    "                my_raw_data = response.content\n",
    "                pdf_content = io.BytesIO(my_raw_data)\n",
    "                pdf_reader = PyPDF2.PdfFileReader(pdf_content)\n",
    "        else:\n",
    "            print('File Not Encrypted')\n",
    "\n",
    "        # vatican(pdf_content,url)\n",
    "        # Arc(pdf_content,url)\n",
    "        Disney(pdf_content, url)\n",
    "\n",
    "\n",
    "    except:\n",
    "        pnr.append([url,'1'])\n",
    "except:\n",
    "    pnr.append([url, '2'])"
   ]
  },
  {
   "cell_type": "code",
   "execution_count": 9,
   "id": "acute-submission",
   "metadata": {},
   "outputs": [
    {
     "name": "stdout",
     "output_type": "stream",
     "text": [
      "[['https://drive.google.com/uc?id=1Afw9hQNoHwUuwn3BQ_x9oWSWCj4WBXlj&export=download', ''], ['https://drive.google.com/uc?id=1Afw9hQNoHwUuwn3BQ_x9oWSWCj4WBXlj&export=download', '2']]\n"
     ]
    }
   ],
   "source": [
    "print(pnr)"
   ]
  },
  {
   "cell_type": "code",
   "execution_count": null,
   "id": "excess-retention",
   "metadata": {},
   "outputs": [],
   "source": []
  }
 ],
 "metadata": {
  "kernelspec": {
   "display_name": "Python 3",
   "language": "python",
   "name": "python3"
  },
  "language_info": {
   "codemirror_mode": {
    "name": "ipython",
    "version": 3
   },
   "file_extension": ".py",
   "mimetype": "text/x-python",
   "name": "python",
   "nbconvert_exporter": "python",
   "pygments_lexer": "ipython3",
   "version": "3.8.8"
  }
 },
 "nbformat": 4,
 "nbformat_minor": 5
}
